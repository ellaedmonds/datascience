{
 "cells": [
  {
   "cell_type": "markdown",
   "metadata": {},
   "source": [
    "# Ballistics and the Range Equation\n",
    "*This is an investigation of the so-called range equation: * $d=\\frac{v^2} g\\sin 2\\theta$"
   ]
  },
  {
   "cell_type": "code",
   "execution_count": null,
   "metadata": {},
   "outputs": [],
   "source": [
    "from math import radians, sin, pi\n",
    "from numpy import linspace\n",
    "import matplotlib.pyplot as plt"
   ]
  },
  {
   "cell_type": "code",
   "execution_count": null,
   "metadata": {},
   "outputs": [],
   "source": [
    "angledegrees = linspace(0, 90, num=180)"
   ]
  },
  {
   "cell_type": "code",
   "execution_count": null,
   "metadata": {},
   "outputs": [],
   "source": [
    "def rangeformula(v, theta):\n",
    "    for n in theta:\n",
    "        Range = ((v**2)/9.81)*sin(2*radians(n))\n",
    "        Ranges.append(Range)\n",
    "    return zip (theta,Range)\n",
    "    \"\"\"\n",
    "    Inputs:\n",
    "        v -  velocity in m/s\n",
    "        theta - launch angle with respect to horizon in radians\n",
    "        Returns:\n",
    "        Impact distance in m\n",
    "        \"\"\""
   ]
  },
  {
   "cell_type": "code",
   "execution_count": null,
   "metadata": {},
   "outputs": [],
   "source": [
    "##Ranges = []\n",
    "##for n in angledegrees:\n",
    "##    Range = ((100**2)/9.81)*sin(2*radians(n))\n",
    "##    Ranges.append(Range)"
   ]
  },
  {
   "cell_type": "code",
   "execution_count": null,
   "metadata": {},
   "outputs": [],
   "source": [
    "plt.plot(rangeformula(100,angledegrees))\n",
    "plt.title(\"Range as a function of angle at 100 m/s\")\n",
    "plt.xlabel(\"Angle (degrees)\")\n",
    "plt.ylabel(\"Range (meters)\")\n",
    "plt.show()"
   ]
  },
  {
   "cell_type": "code",
   "execution_count": null,
   "metadata": {},
   "outputs": [],
   "source": [
    "rangeforangle100 = [rangeformula(100, radians(angle)) for angle in angledegrees]\n",
    "rangeforangle200 = [rangeformula(200, radians(angle)) for angle in angledegrees]\n",
    "plt.plot(rangeforangle100)\n",
    "plt.legend()\n",
    "plt.plot(rangeforangle200)\n",
    "plt.ledgend()\n",
    "plt.title(\"Range as a function of angle at narious velocities\")\n",
    "plt.xlabel(\"Angle (degrees)\")\n",
    "plt.ylabel(\"Range (meters)\")\n",
    "plt.show()"
   ]
  },
  {
   "cell_type": "code",
   "execution_count": null,
   "metadata": {},
   "outputs": [],
   "source": []
  }
 ],
 "metadata": {
  "kernelspec": {
   "display_name": "Python 3",
   "language": "python",
   "name": "python3"
  },
  "language_info": {
   "codemirror_mode": {
    "name": "ipython",
    "version": 3
   },
   "file_extension": ".py",
   "mimetype": "text/x-python",
   "name": "python",
   "nbconvert_exporter": "python",
   "pygments_lexer": "ipython3",
   "version": "3.5.2"
  }
 },
 "nbformat": 4,
 "nbformat_minor": 2
}
